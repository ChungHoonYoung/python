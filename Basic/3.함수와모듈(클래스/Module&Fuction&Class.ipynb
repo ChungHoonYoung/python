{
 "cells": [
  {
   "cell_type": "markdown",
   "metadata": {},
   "source": [
    "3. 모듈, 함수, 클래스"
   ]
  },
  {
   "cell_type": "markdown",
   "metadata": {},
   "source": [
    "3.1. 모듈이란?"
   ]
  },
  {
   "cell_type": "code",
   "execution_count": null,
   "metadata": {},
   "outputs": [],
   "source": [
    "# 모듈 가져오기 예제\n",
    "import math as m\n",
    "\n",
    "num1 = m.pow(2,3)\n",
    "num2 = m.sqrt(9)\n",
    "\n",
    "print(num1 + num2)"
   ]
  },
  {
   "cell_type": "code",
   "execution_count": null,
   "metadata": {},
   "outputs": [],
   "source": [
    "# 모듈 가져오기 예제\n",
    "from math import *\n",
    "\n",
    "num1 = math.pow(2,3)\n",
    "num2 = math.sqrt(9)\n",
    "\n",
    "print(num1 + num2)"
   ]
  },
  {
   "cell_type": "code",
   "execution_count": null,
   "metadata": {},
   "outputs": [],
   "source": [
    "# 모듈 가져오기 예제\n",
    "from math import pow as p, aqrt as sq\n",
    "\n",
    "num1 = p(2,3)\n",
    "num2 = sq(9)\n",
    "\n",
    "print(num1 + num2)"
   ]
  },
  {
   "cell_type": "markdown",
   "metadata": {},
   "source": [
    "표준 모듈\n",
    "    - os, time, math, random"
   ]
  },
  {
   "cell_type": "code",
   "execution_count": null,
   "metadata": {},
   "outputs": [],
   "source": [
    "# random 함수\n",
    "\n",
    "import random\n",
    "\n",
    "for i in range(5) :\n",
    "    print(random.random())"
   ]
  },
  {
   "cell_type": "code",
   "execution_count": null,
   "metadata": {},
   "outputs": [],
   "source": [
    "# random / randint 함수 (이상, 이하)\n",
    "\n",
    "import random\n",
    "\n",
    "for i in range(5) :\n",
    "    print(random.randint(1, 10))"
   ]
  },
  {
   "cell_type": "code",
   "execution_count": null,
   "metadata": {},
   "outputs": [],
   "source": [
    "# random / randrange 함수 (이상, 미만)\n",
    "\n",
    "import random\n",
    "\n",
    "for i in range(5) :\n",
    "    print(random.randrange(1,10))"
   ]
  },
  {
   "cell_type": "code",
   "execution_count": null,
   "metadata": {},
   "outputs": [],
   "source": [
    "# random / shuffle 함수\n",
    "\n",
    "import random as rd\n",
    "\n",
    "fruits = ['사과', '바나나', '딸기', '복숭아']\n",
    "rd.shuffle(fruits)\n",
    "print(fruits)\n",
    "\n",
    "# random / choice 함수\n",
    "\n",
    "print(rd.choices(fruits, k=2))\n",
    "\n",
    "# random / sample 함수\n",
    "\n",
    "print(rd.sample(fruits, 3))"
   ]
  },
  {
   "cell_type": "code",
   "execution_count": null,
   "metadata": {},
   "outputs": [],
   "source": [
    "# [연습문제] 로또 번호 생성기\n",
    "\n",
    "import random as rd\n",
    "\n",
    "lotto = list(range(1, 46))\n",
    "\n",
    "print(rd.sample(lotto, 6))"
   ]
  },
  {
   "cell_type": "code",
   "execution_count": null,
   "metadata": {},
   "outputs": [],
   "source": [
    "# [연습문제] 무작위의 숫자 2개를 받아서 연산문제를 출제하는 프로그램을 작성하시오.\n",
    "import random as rd\n",
    "\n",
    "num1, num2 = rd.sample(range(1, 101), 2)\n",
    "# num = rd.sample(range(1, 101), 2)\n",
    "# num[0], num[1]\n",
    "\n",
    "result = int(input(f'{num1}와 {num2}의 합을 입력하세요 :'))\n",
    "\n",
    "if result == (num1 + num2) :\n",
    "    print(\"정답입니다.\")\n",
    "else :\n",
    "    print(\"오답입니다.\")"
   ]
  },
  {
   "cell_type": "markdown",
   "metadata": {},
   "source": [
    "내가 만든 모듈 불러오기"
   ]
  },
  {
   "cell_type": "code",
   "execution_count": null,
   "metadata": {},
   "outputs": [],
   "source": [
    "import my_calc\n",
    "\n",
    "print(my_calc.add_num(4,5))\n",
    "\n",
    "import my_calc as m\n",
    "\n",
    "print(m.add_num(3,4))\n",
    "\n",
    "from my_calc import *\n",
    "\n",
    "print(add_num(10,3))\n",
    "print(sub_num(10,3))"
   ]
  },
  {
   "cell_type": "code",
   "execution_count": null,
   "metadata": {},
   "outputs": [],
   "source": [
    "모듈 불러오기"
   ]
  },
  {
   "cell_type": "code",
   "execution_count": null,
   "metadata": {},
   "outputs": [],
   "source": [
    "# Tkinter\n",
    "\n",
    "from tkinter import *\n",
    "\n",
    "main = Tk()\n",
    "main.title(\"Tk\")\n",
    "main.geometry(\"300x200\")\n",
    "\n",
    "lbl = Label(main)\n",
    "lbl['text'] = \"안녕하세요.\"\n",
    "lbl['font'] = \"Arial 20\"\n",
    "lbl.pack()\n",
    "\n",
    "main.mainloop()"
   ]
  },
  {
   "cell_type": "code",
   "execution_count": null,
   "metadata": {},
   "outputs": [],
   "source": [
    "# Tkinter\n",
    "\n",
    "from tkinter import *\n",
    "\n",
    "main = Tk()\n",
    "main.title(\"Tk\")\n",
    "main.geometry(\"300x200\")\n",
    "\n",
    "lbl = Label(main)\n",
    "lbl['text'] = \"안녕하세요.\"\n",
    "lbl['font'] = \"Arial 20\"\n",
    "lbl.pack()\n",
    "\n",
    "ok_button = Button(main)\n",
    "ok_button['text'] = \"확인\"\n",
    "ok_button['foreground'] = \"Red\"\n",
    "ok_button.pack()\n",
    "\n",
    "cancle_btn = Button(main, text = '취소', foreground=\"Green\")\n",
    "cancle_btn.pack()\n",
    "\n",
    "main.mainloop()"
   ]
  },
  {
   "cell_type": "code",
   "execution_count": 1,
   "metadata": {},
   "outputs": [],
   "source": [
    "# Tkinter\n",
    "\n",
    "from tkinter import *\n",
    "\n",
    "main = Tk()\n",
    "main.title(\"show me the picture\")\n",
    "main.geometry(\"300x200\")\n",
    "\n",
    "img = PhotoImage(file='python.png')\n",
    "\n",
    "lbl = Label(main)\n",
    "lbl['text'] = \"안녕하세요.\"\n",
    "lbl['font'] = \"Arial 20\"\n",
    "lbl.pack()\n",
    "\n",
    "btn = Button(main, image=img)\n",
    "btn.pack()\n",
    "\n",
    "main.mainloop()"
   ]
  },
  {
   "cell_type": "code",
   "execution_count": 22,
   "metadata": {},
   "outputs": [],
   "source": [
    "# 계산기\n",
    "\n",
    "from tkinter import *\n",
    "\n",
    "main = Tk()\n",
    "main.title(\"계산기\")\n",
    "main.geometry(\"900x600\")\n",
    "\n",
    "def ft_sum():\n",
    "\tnum1=int(txt1.get())\n",
    "\tnum2=int(txt2.get())\n",
    "\tlb1.config(text=str(num1+num2))\n",
    "\t\n",
    "def ft_sub():\n",
    "\tnum1=int(txt1.get())\n",
    "\tnum2=int(txt2.get())\n",
    "\tlb1.config(text=num1-num2)\n",
    "\n",
    "def ft_mul():\n",
    "\tnum1=int(txt1.get())\n",
    "\tnum2=int(txt2.get())\n",
    "\tlb1.config(text=num1*num2)\n",
    "\n",
    "def ft_div():\n",
    "\tnum1=float(txt1.get())\n",
    "\tnum2=float(txt2.get())\n",
    "\tlb1.config(text=num1//num2)\n",
    "\n",
    "txt1 = Entry(main)\n",
    "txt1.pack()\n",
    "\n",
    "txt2 = Entry(main)\n",
    "txt2.pack()\n",
    "\n",
    "but_sum = Button(main, text =\"+\", command = ft_sum)\n",
    "but_sum.pack()\n",
    "\n",
    "but_sub = Button(main, text =\"-\", command = ft_sub)\n",
    "but_sub.pack()\n",
    "\n",
    "but_mul = Button(main, text =\"*\", command = ft_mul)\n",
    "but_mul.pack()\n",
    "\n",
    "but_div = Button(main, text =\"/\", command = ft_div)\n",
    "but_div.pack()\n",
    "\n",
    "lb1 = Label(main, text=\" \")\n",
    "lb1.pack()\n",
    "\n",
    "main.mainloop()"
   ]
  },
  {
   "cell_type": "markdown",
   "metadata": {},
   "source": [
    "3.2. 함수와 사용자 정의 함수"
   ]
  },
  {
   "cell_type": "markdown",
   "metadata": {},
   "source": [
    "내장함수 : 기본적으로 파이썬에서 제공되는 함수들"
   ]
  },
  {
   "cell_type": "code",
   "execution_count": null,
   "metadata": {},
   "outputs": [],
   "source": [
    "print(abs(-10)) # 절대값\n",
    "print(all([0,1,0,1])) # 모두가 True 일 경우에만 True / 하나라도 False면 False\n",
    "print(any([0,1,0,1])) # 하나라도 True이면 Ture / 모두가 False면 False\n",
    "\n",
    "\n",
    "# enumerate()\n",
    "fruits = ['사과', '바나나', '딸기', '복숭아']\n",
    "\n",
    "for i, letter in enumerate(fruits) :\n",
    "    print(i, letter)\n",
    "\n",
    "for i, letter in enumerate(fruits, start = 1) :\n",
    "    print(i, letter)"
   ]
  },
  {
   "cell_type": "code",
   "execution_count": null,
   "metadata": {},
   "outputs": [],
   "source": [
    "# input()\n",
    "a = input()\n",
    "print(a)\n",
    "\n",
    "b = input(\"Enter :\")\n",
    "print(b)"
   ]
  },
  {
   "cell_type": "code",
   "execution_count": null,
   "metadata": {},
   "outputs": [],
   "source": [
    "# hex() [0,1,2,3,4,5,6,7,8,9,a,b,c,d,e,f]\n",
    "\n",
    "print(hex(234))\n",
    "print(hex(3))"
   ]
  },
  {
   "cell_type": "code",
   "execution_count": null,
   "metadata": {},
   "outputs": [],
   "source": [
    "# int() 정수변환\n",
    "print(int('3'))\n",
    "print(int(3.4))\n",
    "print(int('11', 2))\n",
    "print(int('1a', 16))"
   ]
  },
  {
   "cell_type": "code",
   "execution_count": null,
   "metadata": {},
   "outputs": [],
   "source": [
    "# len() 길이 추출\n",
    "print(len(\"python is good\"))\n",
    "print(len([1,2,3]))\n",
    "print(len((1,2,3)))"
   ]
  },
  {
   "cell_type": "code",
   "execution_count": null,
   "metadata": {},
   "outputs": [],
   "source": [
    "# list() \n",
    "[0, 1, 2, 3, 4, 5] # => list : 변환 가능"
   ]
  },
  {
   "cell_type": "code",
   "execution_count": null,
   "metadata": {},
   "outputs": [],
   "source": [
    "# tuple()\n",
    "(0, 1, 2, 3, 4, 5) # => tuple : 읽기 전용"
   ]
  },
  {
   "cell_type": "code",
   "execution_count": null,
   "metadata": {},
   "outputs": [],
   "source": [
    "# 딕셔너리 dict\n",
    "dict = {'key0':'value0', 'key1':'value1', 'key2':'value2', 'key3':'value3'} # 중괄호는 순서가 상관없다.\n",
    "print(dict['key0'])  # 키 값을 입력해야 밸류값을 출력 가능"
   ]
  },
  {
   "cell_type": "code",
   "execution_count": null,
   "metadata": {},
   "outputs": [],
   "source": [
    "# max(), min()\n",
    "print(max([1,2,3]))\n",
    "print(min(\"Python\")) # 대문자 우선\n",
    "print(min(\"python\")) # 알파벳 순서"
   ]
  },
  {
   "cell_type": "code",
   "execution_count": null,
   "metadata": {},
   "outputs": [],
   "source": [
    "# chr() 아스키코드를 글자로 변환\n",
    "print(chr(97))\n",
    "print(chr(44032)) # 가"
   ]
  },
  {
   "cell_type": "code",
   "execution_count": null,
   "metadata": {},
   "outputs": [],
   "source": [
    "# ord() 글자를 아스키코드로 변환\n",
    "print(ord('a'))\n",
    "print(ord('가'))"
   ]
  },
  {
   "cell_type": "code",
   "execution_count": null,
   "metadata": {},
   "outputs": [],
   "source": [
    "# pow() 앞자리에 대한 뒷자리수만큼 제곱\n",
    "print(pow(2,3))"
   ]
  },
  {
   "cell_type": "code",
   "execution_count": null,
   "metadata": {},
   "outputs": [],
   "source": [
    "# range()\n",
    "print(range(5))\n",
    "print(list(range(5)))\n",
    "print(list(range(5, 10)))\n",
    "print(list(range(1, 11, 2)))\n",
    "print(list(range(0, -10, -1)))"
   ]
  },
  {
   "cell_type": "code",
   "execution_count": null,
   "metadata": {},
   "outputs": [],
   "source": [
    "# + 에 대해서\n",
    "print(\"twelve is\" + 12) # 숫자와 문자는 + 할 수 없어서 에러\n",
    "print(\"twelve is \" + '12')\n",
    "print(\"twelve is \" + str(12))\n",
    "print(\"twelve is\", 12)"
   ]
  },
  {
   "cell_type": "code",
   "execution_count": null,
   "metadata": {},
   "outputs": [],
   "source": [
    "# type()\n",
    "print(type(\"abc\"))\n",
    "print(type([]))\n",
    "print(type(open('test', 'w')))"
   ]
  },
  {
   "cell_type": "code",
   "execution_count": null,
   "metadata": {},
   "outputs": [],
   "source": [
    "# zip()\n",
    "print(list(zip([1,2,3],[4,5,6])))\n",
    "print(list(zip([1,2,3],[4,5,6],[7,8,9])))\n",
    "print(list(zip('abc','123')))\n",
    "\n",
    "a,b,c = zip('abc','123')\n",
    "print(a,b,c)\n",
    "type(a)"
   ]
  },
  {
   "cell_type": "code",
   "execution_count": null,
   "metadata": {},
   "outputs": [],
   "source": [
    "사용자 정의 함수 : 내가 만드는 함수\n",
    "\n",
    " def 함수이름 () :\n",
    "    함수내용"
   ]
  },
  {
   "cell_type": "code",
   "execution_count": null,
   "metadata": {},
   "outputs": [],
   "source": [
    "# 매개변수가 없는 함수\n",
    "\n",
    "def print_hello() :\n",
    "    print(\"hello world\")\n",
    "    print(\"welcome to my world\")\n",
    "\n",
    "print_hello()\n",
    "print_hello()\n",
    "print_hello()"
   ]
  },
  {
   "cell_type": "code",
   "execution_count": null,
   "metadata": {},
   "outputs": [],
   "source": [
    "# 매개변수가 있는 함수\n",
    "\n",
    "def add_num(num1, num2) :\n",
    "    result = num1 + num2\n",
    "    print(result)\n",
    "\n",
    "add_num(4, 5)\n",
    "add_num(2004, 2005)\n",
    "\n",
    "def add_num(num1, num2) :\n",
    "    result = num1 + num2\n",
    "    return(result)\n",
    "\n",
    "value = add_num(4, 5)\n",
    "print(value)"
   ]
  },
  {
   "cell_type": "code",
   "execution_count": null,
   "metadata": {},
   "outputs": [],
   "source": [
    "# [연습문제] 터틀미션1 - 한 변의 길이가 100인 정삼각형 그리는 함수 만들기\n",
    "\n",
    "def turtle_tri() :\n",
    "\n",
    "    import turtle as t\n",
    "\n",
    "    for i in range(3) :\n",
    "        t.forward(100)\n",
    "        t.left(120)\n",
    "    \n",
    "    t.done()\n",
    "\n",
    "turtle_tri()"
   ]
  },
  {
   "cell_type": "code",
   "execution_count": null,
   "metadata": {},
   "outputs": [],
   "source": [
    "# [연습문제] 터틀미션2 - 사용자에게 3~9를 입력받아 정N각형을 만드는 함수를 만드세요.\n",
    "\n",
    "def turtle_polygon(n) :\n",
    "    import turtle as t\n",
    "\n",
    "    for i in range(n) :\n",
    "        t.forward(100)\n",
    "        t.left(360/n)\n",
    "    t.done()\n",
    "\n",
    "n = int(input(\"3~9 중에서 몇 각형 ? :\"))\n",
    "\n",
    "if 3<= n <=9 :\n",
    "    turtle_polygon(n)\n",
    "else :\n",
    "    print(\"잘못입력하셨습니다.\")"
   ]
  },
  {
   "cell_type": "code",
   "execution_count": null,
   "metadata": {},
   "outputs": [],
   "source": [
    "# [연습문제] 다음 함수를 정의하고 불러서 사용.\n",
    "\n",
    "def sqt(num) :\n",
    "    return(num**2)\n",
    "\n",
    "print(sqt(3))\n",
    "print(sqt(6))"
   ]
  },
  {
   "cell_type": "code",
   "execution_count": null,
   "metadata": {},
   "outputs": [],
   "source": [
    "# [연습문제] 다음 함수를 정의하고 불러서 사용.\n",
    "\n",
    "def cicle_area(num) :\n",
    "    return(num**2*3.14)\n",
    "\n",
    "radius = int(input(\"반지름을 입력 : \"))\n",
    "value = cicle_area(radius)\n",
    "print(f\"반지름이 {radius}인 원의 넓이는 {value}입니다.\")"
   ]
  },
  {
   "cell_type": "code",
   "execution_count": null,
   "metadata": {},
   "outputs": [],
   "source": [
    "# [연습문제] 섭씨 온도를 사용자로부터 받아서 화씨 온도로 변환하는 함수\n",
    "\n",
    "def FtoC(temp_f) :\n",
    "    temp_c = (5.0 * (temp_f - 32.0)/9.0)\n",
    "    return temp_c\n",
    "\n",
    "temp_f = float(input(\"화씨 온도를 입력 : \"))\n",
    "print(\"화씨 온도\", temp_f, \"℉ 를 섭씨온도로 변환한 값 : \", round(FtoC(temp_f), 2), '℃')"
   ]
  },
  {
   "cell_type": "code",
   "execution_count": null,
   "metadata": {},
   "outputs": [],
   "source": [
    "# [연습문제] 사용자로부터 받은 값이 소수인지 확인하는 함수\n",
    "\n",
    "def is_prime(num) :\n",
    "    for i in range(2, num) :\n",
    "        if num % i == 0:\n",
    "            return False\n",
    "    return True\n",
    "\n",
    "prime = int(input(\"소수인지 판별할 정수를 입력 : \"))\n",
    "print(is_prime(prime))"
   ]
  },
  {
   "cell_type": "code",
   "execution_count": null,
   "metadata": {},
   "outputs": [],
   "source": [
    "# [연습문제] 구의 부피를 구하는 함수\n",
    "\n",
    "def sphereVolume(radius) :\n",
    "    volume = (4/3) * 3.14 * radius**3\n",
    "    return volume\n",
    "\n",
    "r = int(input(\"구의 반지름을 입력 : \"))\n",
    "print(round(sphereVolume(r), 2))"
   ]
  },
  {
   "cell_type": "code",
   "execution_count": null,
   "metadata": {},
   "outputs": [],
   "source": [
    "# 사용자 함수가 적용이 안되는 경우\n",
    "\n",
    "def modify(n) :\n",
    "    n=n+1\n",
    "\n",
    "k = 10\n",
    "print('k = ', k)\n",
    "modify(k)\n",
    "print('k = ', k)"
   ]
  },
  {
   "cell_type": "code",
   "execution_count": null,
   "metadata": {},
   "outputs": [],
   "source": [
    "# 사용자 함수가 적용이 되는 경우\n",
    "\n",
    "def modify2(li) :\n",
    "    li += [100, 200]\n",
    "\n",
    "list = [1, 2, 3, 4, 5]\n",
    "print(list)\n",
    "modify2(list)\n",
    "\n",
    "print(list)"
   ]
  },
  {
   "cell_type": "code",
   "execution_count": null,
   "metadata": {},
   "outputs": [],
   "source": [
    "# 지역변수와 전역변수\n",
    "\n",
    "def sub(x, y) :\n",
    "    global a\n",
    "    a = 7\n",
    "    x, y = y, x\n",
    "    b = 3\n",
    "    print(a, b, x, y)\n",
    "\n",
    "a, b, x, y = 1, 2, 3, 4\n",
    "sub(x, y)\n",
    "print(a, b, x, y)\n",
    "\n",
    "\n",
    "# 지역변수와 전역변수의 대입\n",
    "def sum2(n) :\n",
    "    s = 0\n",
    "    for i in range(1, n+1) :\n",
    "        s += i\n",
    "    return i, s\n",
    "\n",
    "a, b = sum2(10)\n",
    "print(f\"1부터 {a}까지의 수를 더하면 {b}이다.\")"
   ]
  },
  {
   "cell_type": "code",
   "execution_count": null,
   "metadata": {},
   "outputs": [],
   "source": [
    "# [미니 프로젝트] 주소록 만들기\n",
    "\n",
    "def print_menu () :\n",
    "    print(\"*** 전화번호부 ***\\n\")\n",
    "    print(\"1. 추가하기\")\n",
    "    print(\"2. 수정하기\")\n",
    "    print(\"3. 삭제하기\")\n",
    "    print(\"4. 목록보기\")\n",
    "    print(\"5. 종료하기\")\n",
    "    print(\"--------------\")\n",
    "\n",
    "def addBook () :\n",
    "    name = input(\"추가하실 이름을 입력하세요. : \")\n",
    "    number = input(\"추가하실 번호를(-포함) 입력하세요. : \")\n",
    "    phoneBook[name] = number\n",
    "\n",
    "def modiBook () :\n",
    "    name = input(\"수정하실 이름을 입력하시오.\")\n",
    "    if name in phoneBook :\n",
    "        modi_name = input(\"수정하려는 이름을 입력하시오.\")\n",
    "        modi_number = input(\"수정하려는 번호 입력하시오.\")\n",
    "        name = modi_name\n",
    "        phoneBook[modi_name] = modi_number\n",
    "    else :\n",
    "        print(\"수정하실 이름이 없습니다.\")\n",
    "\n",
    "def delBook () :\n",
    "    name = input(\"삭제하실 이름을 입력하시오.\")\n",
    "    if name in phoneBook :    \n",
    "        del phoneBook[name]\n",
    "    else :\n",
    "        print(\"삭제하실 이름이 없습니다.\")\n",
    "\n",
    "def callBook () :\n",
    "    if len(phoneBook) == 0 :\n",
    "        print(\"전화번호부가 비었습니다.\")\n",
    "    else :\n",
    "        for a in phoneBook : \n",
    "            print(f\"{a} : {phoneBook[a]}\")\n",
    "\n",
    "print_menu()\n",
    "\n",
    "phoneBook = {}\n",
    "\n",
    "while True :\n",
    "\n",
    "    n = int(input(\"메뉴를 선택하세요.(숫자를 입력)\"))\n",
    "\n",
    "    if n == 1 :\n",
    "        addBook ()\n",
    "        print_menu()\n",
    "\n",
    "    elif n == 2:\n",
    "        modiBook ()\n",
    "        print_menu()\n",
    "\n",
    "    elif n == 3 :\n",
    "        delBook ()\n",
    "        print_menu()\n",
    "\n",
    "    elif n == 4 :\n",
    "        callBook ()\n",
    "        print_menu()\n",
    "\n",
    "    elif n == 5 :\n",
    "        print(\"전화번호부를 종료합니다.\")\n",
    "        break\n",
    "\n",
    "    else :\n",
    "        print(\"잘못된 번호를 입력하셨습니다.\")\n",
    "        print_menu()"
   ]
  },
  {
   "cell_type": "markdown",
   "metadata": {},
   "source": [
    "3.3. 클래스(class)\n",
    " - 속성(변수)와 동작(함수, 메소드)가 속한 하나의 객체\n",
    " - 클래스를 이용해 인스턴스를 생성해서 사용\n",
    " - 똑같은 것을 계속 만들어낼 수 있는 틀, 설계도 등\n",
    " - 객체 : 클래스에서 찍어낸 형태"
   ]
  },
  {
   "cell_type": "code",
   "execution_count": null,
   "metadata": {},
   "outputs": [],
   "source": [
    "class Human :                   # 클래스 생성\n",
    "    def __init__(self, name, hobby) :\n",
    "        self.name = name\n",
    "        self.hobby = hobby\n",
    "        print(f\"{self.name}객체가 생성되었습니다.\")\n",
    "\n",
    "    # def __del__(self) :\n",
    "    #   print(f\"{self.name}객체가 삭제되었습니다.\")\n",
    "\n",
    "    def intro(self) :\n",
    "        print(\"My name is %s, I like %s.\"%(self.name, self.hobby))\n",
    "\n",
    "person1 = Human(\"Joy\", \"Drawing\")   #객체 생성(인스턴스 생성)\n",
    "person2 = Human(\"훈영\", \"잠자기\")\n",
    "\n",
    "person1.intro()         # 메소드 호출\n",
    "person2.intro()"
   ]
  },
  {
   "cell_type": "code",
   "execution_count": null,
   "metadata": {},
   "outputs": [],
   "source": [
    "# 클래스 상속\n",
    "\n",
    "class Parent :\n",
    "    def __init__(self, name) :\n",
    "        self.name = name\n",
    "class Child(Parent) :\n",
    "    pass\n",
    "\n",
    "c = Child(\"장혁\")\n",
    "print(c.name)"
   ]
  },
  {
   "cell_type": "code",
   "execution_count": null,
   "metadata": {},
   "outputs": [],
   "source": [
    "class car :\n",
    "    def __init__(self, m, c) :\n",
    "        self.model = m\n",
    "        self.color = c\n",
    "\n",
    "    def speed(self, v) :\n",
    "        print(f\"{self.model}, {v}속도로 달린다.\")\n",
    "\n",
    "car1 = car(\"AVANTE\", \"red\")\n",
    "car1.speed(100)\n",
    "\n",
    "class suv(car) :\n",
    "    def __init__(self, m, c, d) :\n",
    "        super().__init__(m, c) #super(). 뒤에 것을 가지고 온다.\n",
    "        self.door = d          #d에 대한 값만 추가\n",
    "\n",
    "    def speed(self, v) :\n",
    "        print(f\"{self.model}, {self.door}door, {v}속도로 달린다.\")\n",
    "\n",
    "suv1 = suv(\"SATAFE\", \"yellow\", \"5\")\n",
    "suv1.speed(100)"
   ]
  }
 ],
 "metadata": {
  "kernelspec": {
   "display_name": "Python 3",
   "language": "python",
   "name": "python3"
  },
  "language_info": {
   "codemirror_mode": {
    "name": "ipython",
    "version": 3
   },
   "file_extension": ".py",
   "mimetype": "text/x-python",
   "name": "python",
   "nbconvert_exporter": "python",
   "pygments_lexer": "ipython3",
   "version": "3.12.1"
  }
 },
 "nbformat": 4,
 "nbformat_minor": 2
}
