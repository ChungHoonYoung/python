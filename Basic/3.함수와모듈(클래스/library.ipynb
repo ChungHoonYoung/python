{
 "cells": [
  {
   "cell_type": "markdown",
   "metadata": {},
   "source": [
    "주요 라이브러리"
   ]
  },
  {
   "cell_type": "markdown",
   "metadata": {},
   "source": [
    "Numpy _ 데이터 행렬"
   ]
  },
  {
   "cell_type": "code",
   "execution_count": null,
   "metadata": {},
   "outputs": [],
   "source": [
    "# 넘파이 국룰\n",
    "import numpy as np"
   ]
  },
  {
   "cell_type": "code",
   "execution_count": null,
   "metadata": {},
   "outputs": [],
   "source": [
    "# 넘파이 생성 함수 : np.array()\n",
    "\n",
    "import numpy as np\n",
    "\n",
    "a = [1, 2, 3, 4, 5]\n",
    "\n",
    "b = np.array(a)\n",
    "c = np.array([1, 3, 5])\n",
    "d = np.array([[1,2,3], [4,5,6]])\n",
    "\n",
    "print(a)\n",
    "print(b)\n",
    "print(c)\n",
    "print(d)"
   ]
  },
  {
   "cell_type": "code",
   "execution_count": null,
   "metadata": {},
   "outputs": [],
   "source": [
    "# 넘파이의 구조\n",
    "np.dtype #각 원소의 데이터 크기\n",
    "np.ndim #몇 차원인지\n",
    "np.size() #전체 행과 열의 곱 / 전체 크기\n",
    "np.shape #차원의 행과 열 갯수\n",
    "np.strides(a,b) # b byte 씩, a byte 가 한 묶음 / n=[[1,2,3], [4,5,6]] 4바이트씩일 경우 strides(12(a),4(b))\n",
    "np.itemsize() #하나의 원소가 가지는 byte의 크기\n",
    "np.data()"
   ]
  },
  {
   "cell_type": "code",
   "execution_count": null,
   "metadata": {},
   "outputs": [],
   "source": [
    "# 넘파이 배열 복제하기\n",
    "\n",
    "import numpy as np\n",
    "\n",
    "a = [1, 2, 3, 4, 5]\n",
    "\n",
    "b = a # a 리스트의 주소가 b의 리스트 주소에 대입되기 때문에 a 도 바뀌어서 출력됨 \n",
    "\n",
    "c = a.copy() # .copy()에서는 값을 가져오기 때문에 원래 a의 값이 출력됨\n",
    "\n",
    "b[0] = 99\n",
    "\n",
    "print(a, b, c)"
   ]
  },
  {
   "cell_type": "code",
   "execution_count": null,
   "metadata": {},
   "outputs": [],
   "source": [
    "# 넘파이 예제\n",
    "\n",
    "import numpy as np\n",
    "\n",
    "a = np.array([1, 2, 3, 4, 5])\n",
    "b = np.array([1, 3, 5])\n",
    "c = np.array([[1,2,3], [4,5,6]])\n",
    "d = np.array([[[1,2,3], [4,5,6]], [[7,8,9], [10,11,12]]])\n",
    "\n",
    "# print(a.shape)\n",
    "# print(b.shape)\n",
    "# print(c.shape)\n",
    "# print(d.shape)\n",
    "\n",
    "print(a[2])\n",
    "print(b[-1])\n",
    "print(a[1:3])\n",
    "print(c[0])\n",
    "print(c[0,2])\n",
    "print(c[0][2])\n",
    "print(d)\n",
    "print(d[0])\n",
    "print(d[0,1])\n",
    "print(d[0][1])\n",
    "print(d[0][1][1])"
   ]
  },
  {
   "cell_type": "code",
   "execution_count": null,
   "metadata": {},
   "outputs": [],
   "source": [
    "# 넘파이의 구조 예제\n",
    "\n",
    "import numpy as np\n",
    "\n",
    "n_arr = np.array([[0,1,2,3],[4,5,6,7]], dtype='int64')\n",
    "\n",
    "print(n_arr)\n",
    "print(\"type : \", type(n_arr))\n",
    "print(\"dtype :\", n_arr.dtype)\n",
    "print(\"ndim : \", n_arr.ndim)\n",
    "print(\"shape : \", n_arr.shape)\n",
    "print(\"size : \", n_arr.size)\n",
    "print(\"itemsize : \", n_arr.itemsize)\n",
    "print(\"nbytes : \", n_arr.nbytes)\n",
    "print(\"data : \", n_arr.data)\n",
    "\n",
    "print(\"메모리주소 : \", id(n_arr))"
   ]
  },
  {
   "cell_type": "code",
   "execution_count": null,
   "metadata": {},
   "outputs": [],
   "source": [
    "# 넘파이에서의 연산\n",
    "\n",
    "a = [1, 2, 3, 4, 5]\n",
    "b = np.array(a)\n",
    "c = np.array([1, 3, 5])\n",
    "d = np.array([[1,2,3], [4,5,6]])\n",
    "e = np.array([[1], [2], [3]])\n",
    "\n",
    "# print(a + 2) # 리스트에는 int를 더할 수 없음\n",
    "# print(a + [2]) # 리스트에 리스트를 더할 경우 append 됨\n",
    "print(b + 2) # 브로드캐스팅 : 넘파이에 더할 경우 전체에 더해짐\n",
    "\n",
    "print(a * 2) # 리스트가 곱한 수 만큼 반복됨\n",
    "print(b * 2) # 브로드캐스팅 : 넘파이 원소에 각각 곱해짐\n",
    "\n",
    "print(c + [2, 4, 6]) # element-wise : 크기가 같은 경우 넘파이 원소에 각 위치끼리 더해짐\n",
    "\n",
    "print(d + 2) # 브로드캐스팅, 각 원소에 더해짐\n",
    "print(d + [[2, 2, 2], [2, 2, 2]]) # d+2랑 같음\n",
    "print(d + [1, 2, 3]) #브로드캐스팅\n",
    "\n",
    "print(d * [3, 6, 9]) #브로드캐스팅\n",
    "\n",
    "print(e + [1, 2, 3]) #브로드캐스팅\n"
   ]
  },
  {
   "cell_type": "markdown",
   "metadata": {},
   "source": [
    "Numpy 배열 만들기 - 데이터 type 지정"
   ]
  },
  {
   "cell_type": "code",
   "execution_count": null,
   "metadata": {},
   "outputs": [],
   "source": [
    "# 넘파이 배열 만들기\n",
    "\n",
    "import numpy as np\n",
    "\n",
    "a = np.array([1, 2, 3], dtype = int)\n",
    "# a = np.array([1, 2, 3], dtype = 'int64') # 타입을 입력 할 경우 '' 안에 넣어줌\n",
    "b = np.array([1.1, 2.2, 3.3], dtype = float)\n",
    "# b = np.array([1.1, 2.2, 3.3], dtype = 'float32')\n",
    "c = np.array([0, 1, 1, 0], dtype = bool)\n",
    "\n",
    "print(a)\n",
    "print(b)\n",
    "print(c)\n",
    "\n",
    "print(a.dtype)\n",
    "print(b.dtype)\n",
    "print(c.dtype)"
   ]
  },
  {
   "cell_type": "code",
   "execution_count": null,
   "metadata": {},
   "outputs": [],
   "source": [
    "# 넘파이 배열 연산\n",
    "\n",
    "a = np.array([1, 2, 3, 4])\n",
    "b = np.array([5, 6, 7, 8])\n",
    "\n",
    "#덧셈\n",
    "print('a + b = ', a + b)\n",
    "print('a + b = ', np.add(a, b))\n",
    "\n",
    "#뺄셈\n",
    "print('a - b = ', a - b)\n",
    "print('a - b = ', np.subtract(a, b))\n",
    "\n",
    "#곱셈\n",
    "print('a * b = ', a * b)\n",
    "print('a * b = ', np.multiply(a, b))\n",
    "\n",
    "#나눗셈\n",
    "print('a / b = ', a / b)\n",
    "print('a / b = ', np.divide(a, b))\n",
    "\n",
    "#거듭제곱\n",
    "print('a ** b = ', a ** b)\n",
    "print('a ** b = ', np.power(a, b))"
   ]
  },
  {
   "cell_type": "code",
   "execution_count": null,
   "metadata": {},
   "outputs": [],
   "source": [
    "# shape가 다를 경우 연산이 되지 않는다.\n",
    "\n",
    "# a = np.array([1, 2, 3, 4])\n",
    "# b = np.array([5, 6, 7])\n",
    "\n",
    "# print('a + b = ', a + b)\n",
    "# print('a + b = ', np.add(a, b))"
   ]
  },
  {
   "cell_type": "code",
   "execution_count": null,
   "metadata": {},
   "outputs": [],
   "source": [
    "# arange() 와 reshape() 함수를 사용하여 넘파이 생성\n",
    " # numpy.arange([start], stop[,step,][dtype])\n",
    "\n",
    "a1 = np.arange(12)\n",
    "\n",
    "print(a1)\n",
    "\n",
    "a2 = a1.reshape(3,4)\n",
    "print(a2)\n",
    "\n",
    "a3 = a1.reshape(6, -1)\n",
    "print(a3)\n",
    "\n",
    "a4 = np.arange(36, dtype=float).reshape(3, 4, 3)\n",
    "print(a4)"
   ]
  },
  {
   "cell_type": "code",
   "execution_count": null,
   "metadata": {},
   "outputs": [],
   "source": [
    "# 생성된 넘파이의 연산\n",
    "\n",
    "a1 = np.array([[1, 2], [3, 4]])\n",
    "a2 = np.array([[5, 6], [7, 8]])\n",
    "\n",
    "print(a1)\n",
    "print(a2)\n",
    "\n",
    "#배열의 곱셈\n",
    "print(np.multiply(a1, a2)) #또는 a1 * a2\n",
    "\n",
    "#행렬의 곱셈\n",
    "print(np.matmul(a1, a2))  #또는 a1 @ a2\n"
   ]
  },
  {
   "cell_type": "code",
   "execution_count": null,
   "metadata": {},
   "outputs": [],
   "source": [
    "# 필수 넘파이 함수\n",
    "\n",
    "a = np.arange(12)\n",
    "b = a.reshape(3, 4)\n",
    "\n",
    "print(a)\n",
    "print(b)\n",
    "\n",
    "b[0, 0] = 12\n",
    "\n",
    "print(a)\n",
    "print(b)\n",
    "\n",
    "print(b.transpose()) # 가로세로 방향 바꾸기\n",
    "\n",
    "c = b.flatten() # 1차원으로 바꿔주기 (data가 새로 만들어짐)\n",
    "d = b.ravel() # 1차원으로 바꿔주기 (원래의 data를 유지함)\n",
    "\n",
    "print(c)\n",
    "print(d)\n",
    "\n",
    "b[0, 0] = 11\n",
    "\n",
    "print(c) # data가 새로 만들어져서 위의 변환이 적용이 안됨\n",
    "print(d) # 원래(바뀌어진)의 data를 가지고옴\n"
   ]
  },
  {
   "cell_type": "code",
   "execution_count": null,
   "metadata": {},
   "outputs": [],
   "source": [
    "# 연습문제\n",
    "\n",
    "a1 = np.arange(1, 13).reshape(2,-1)\n",
    "print(a1)\n",
    "\n",
    "a2 = np.arange(1,31).reshape(3,-1)\n",
    "print(a2)\n",
    "\n",
    "a3 = a2.reshape(6, -1)\n",
    "print(a3)\n",
    "\n",
    "a4 = a3.transpose()\n",
    "print(a4)"
   ]
  },
  {
   "cell_type": "code",
   "execution_count": null,
   "metadata": {},
   "outputs": [],
   "source": [
    "# 넘파이의 비교연산자\n",
    "\n",
    "a1 = np.array([1, 2, 3, 4])\n",
    "a2 = np.array([3, 2, 5, 4])\n",
    "\n",
    "a1 == a2\n",
    "\n",
    "a1 > a2\n",
    "a1 >= a2\n",
    "\n",
    "a1 < a2\n",
    "a1 <= a2\n",
    "\n",
    "np.array_equal(a1, a2)"
   ]
  },
  {
   "cell_type": "code",
   "execution_count": null,
   "metadata": {},
   "outputs": [],
   "source": [
    "#정렬\n",
    "\n",
    "a = np.array([4, 2, 6, 5, 1, 3, 0])\n",
    "print(a)\n",
    "\n",
    "print(np.sort(a)) # a의 변환 없이 그저 sort 값 출력\n",
    "print(a)\n",
    "\n",
    "a.sort() # a의 배열 자체 정렬\n",
    "print(a)\n",
    "\n",
    "np.sort(a)[::-1]"
   ]
  },
  {
   "cell_type": "code",
   "execution_count": null,
   "metadata": {},
   "outputs": [],
   "source": [
    "# 축을 중심으로 정렬\n",
    "\n",
    "a = np.array([[1, 3, 4],[0, 3, 2],[7, 5, 2]])\n",
    "\n",
    "a.sort(axis=0) # 0을 기준으로 정렬\n",
    "\n",
    "print(a)"
   ]
  },
  {
   "cell_type": "code",
   "execution_count": null,
   "metadata": {},
   "outputs": [],
   "source": [
    "# 실습\n",
    "\n",
    "# 1에서 16까지의 연속적인 값을 원소로 가지는 4x4 크기의 2차원 배열 a를 생성하여라.\n",
    "# 이 a를 인덱싱하여 다음과 같은 b, c, d, e 배열을 구하세요.\n",
    "\n",
    "a = np.arange(1, 17).reshape(4, 4)\n",
    "print(a)\n",
    "\n",
    "b = a[:,1]\n",
    "print(b)\n",
    "\n",
    "c = a[2,1:]\n",
    "print(c)\n",
    "\n",
    "d = a[:2, :2]\n",
    "print(d)\n",
    "\n",
    "e = a[1:3, 1:3]\n",
    "print(e)\n",
    "\n",
    "print(a[1])\n",
    "print(a[:,3])\n",
    "print(a[2,1])"
   ]
  },
  {
   "cell_type": "markdown",
   "metadata": {},
   "source": [
    "Matplorlib _ 데이터 시각화"
   ]
  },
  {
   "cell_type": "code",
   "execution_count": null,
   "metadata": {},
   "outputs": [],
   "source": [
    "import matplotlib.pyplot as plt"
   ]
  },
  {
   "cell_type": "code",
   "execution_count": null,
   "metadata": {},
   "outputs": [],
   "source": [
    "# 그래프 그리기\n",
    "\n",
    "import matplotlib.pyplot as plt\n",
    "\n",
    "plt.plot([1, 2, 3, 4])\n",
    "plt.show()"
   ]
  },
  {
   "cell_type": "code",
   "execution_count": null,
   "metadata": {},
   "outputs": [],
   "source": [
    "# 그래프 그리기\n",
    "\n",
    "import matplotlib.pyplot as plt\n",
    "\n",
    "plt.plot([1, 2, 3, 4], [1, 5, 6, 3]) #선 그래프\n",
    "plt.scatter([1, 2, 3, 4],[5, 7, 3, 6]) #점 그래프\n",
    "plt.bar([1, 2, 3, 4],[1, 2, 2, 1]) #막대 그래프\n",
    "\n",
    "plt.show()"
   ]
  },
  {
   "cell_type": "code",
   "execution_count": null,
   "metadata": {},
   "outputs": [],
   "source": [
    "# 그래프 그리기\n",
    "\n",
    "import matplotlib.pyplot as plt\n",
    "\n",
    "plt.figure(figsize=(4,3)) # 출력 사이즈 지정\n",
    "plt.plot([1, 2, 3, 4], [1, 4, 9, 16], 'ro') # ro : 'red','o' : 빨간색 동그라미 / '-'선 / '--'점선 / ':'작은 점선\n",
    "plt.axis([0, 6, 0, 20]) # 축 범위지정 (x축:0~6 / y축:0~20)\n",
    "plt.show()"
   ]
  },
  {
   "cell_type": "code",
   "execution_count": null,
   "metadata": {},
   "outputs": [],
   "source": [
    "# 선종류 지정\n",
    "\n",
    "import matplotlib.pyplot as plt\n",
    "\n",
    "plt.plot([1,2,3],[4,4,4], '-', color='C0', label='Solid')\n",
    "plt.plot([1,2,3],[3,3,3], '--', color='C0', label='Dashed')\n",
    "plt.plot([1,2,3],[2,2,2], ':', color='C0', label='Dotted')\n",
    "plt.plot([1,2,3],[1,1,1], '-.', color='C0', label='Dash-dot')\n",
    "\n",
    "plt.xlabel('X-Axis')\n",
    "plt.ylabel('Y-Axis')\n",
    "\n",
    "plt.axis([0.8, 3.2, 0.5, 5.0])\n",
    "\n",
    "plt.legend(loc=10, ncol=1)\n",
    "\n",
    "plt.show()\n",
    "\n"
   ]
  },
  {
   "cell_type": "code",
   "execution_count": null,
   "metadata": {},
   "outputs": [],
   "source": [
    "# 선 색 지정\n",
    "\n",
    "import matplotlib.pyplot as plt\n",
    "\n",
    "plt.plot([1,2,3],[4,4,4], 'r')\n",
    "plt.plot([1,2,3],[3,3,3], 'g')\n",
    "plt.plot([1,2,3],[2,2,2], 'b')\n",
    "\n",
    "plt.xlabel('X-Axis')\n",
    "plt.ylabel('Y-Axis')\n",
    "\n",
    "plt.show()"
   ]
  },
  {
   "cell_type": "code",
   "execution_count": null,
   "metadata": {},
   "outputs": [],
   "source": [
    "# 그래프 영역 채우기\n",
    "\n",
    "import matplotlib.pyplot as plt\n",
    "\n",
    "x = [1, 2, 3]\n",
    "y = [2, 4, 5]\n",
    "\n",
    "plt.plot(x, y, 'r')\n",
    "plt.xlabel('X-Axis')\n",
    "plt.ylabel('Y-Axis')\n",
    "\n",
    "plt.fill_between(x[1:3], y[1:3], alpha=0.5) # alpha 투명도\n",
    "\n",
    "plt.show()"
   ]
  },
  {
   "cell_type": "code",
   "execution_count": 1,
   "metadata": {},
   "outputs": [
    {
     "data": {
      "image/png": "[encoded data removed]",
      "text/plain": [
       "<Figure size 640x480 with 1 Axes>"
      ]
     },
     "metadata": {},
     "output_type": "display_data"
    }
   ],
   "source": [
    "# Numpy의 그래프 그리기\n",
    "\n",
    "import numpy as np\n",
    "import matplotlib.pyplot as plt\n",
    "\n",
    "x = np.arange(0, 9, 0.5)\n",
    "\n",
    "plt.plot(x, x, 'ro')\n",
    "plt.plot(x, x**2, color='#FFFF00', marker='*', linewidth=1)\n",
    "plt.plot(x, x**3, color='forestgreen', marker='^', markersize=5)\n",
    "\n",
    "plt.axis([0, 10, -10, 700])\n",
    "\n",
    "plt.xticks([0, 5, 10])\n",
    "plt.yticks(np.arange(0, 701, 100))\n",
    "\n",
    "plt.show()"
   ]
  },
  {
   "cell_type": "code",
   "execution_count": null,
   "metadata": {},
   "outputs": [],
   "source": [
    "# 파일 불러와서 그래프 그리기\n",
    "\n",
    "import matplotlib.pyplot as plt\n",
    "\n",
    "with open ('./1_9______/displ.txt', 'r') as f :\n",
    "\tdispl=[]\n",
    "\tfor line in f:\n",
    "\t\tdispl.append(float(line))\n",
    "\n",
    "with open('./1_9______/hwy.txt', 'r') as f:\n",
    "\thwy=[]\n",
    "\tfor line in f:\n",
    "\t\thwy.append(float(line))\n",
    "\n",
    "plt.scatter(displ, hwy)\n",
    "plt.xlabel(\"displ\")\n",
    "plt.ylabel(\"hwy\")\n",
    "\n",
    "plt.show()"
   ]
  },
  {
   "cell_type": "code",
   "execution_count": null,
   "metadata": {},
   "outputs": [],
   "source": [
    "# 한글폰트 설치하기 위해 필요함\n",
    "import matplotlib.font_manager as fm\n",
    "import matplotlib.pyplot as plt"
   ]
  },
  {
   "cell_type": "code",
   "execution_count": null,
   "metadata": {},
   "outputs": [],
   "source": [
    "# 그래프 그리기\n",
    "\n",
    "import numpy as np\n",
    "\n",
    "x = np.arange(3)\n",
    "years = ['2010', '2011', '2012']\n",
    "domestic = [6801, 7695, 8010]\n",
    "foreign = [777, 1046, 1681]\n",
    "\n",
    "plt.bar(x, domestic)\n",
    "plt.bar(x, foreign)\n",
    "plt.xticks(x, years)\n",
    "\n",
    "plt.show()"
   ]
  },
  {
   "cell_type": "code",
   "execution_count": null,
   "metadata": {},
   "outputs": [],
   "source": [
    "# 그래프 그리기\n",
    "\n",
    "import numpy as np\n",
    "\n",
    "x = np.arange(3)\n",
    "years = ['2010', '2011', '2012']\n",
    "domestic = [6801, 7695, 8010]\n",
    "foreign = [777, 1046, 1681]\n",
    "\n",
    "plt.bar(x, domestic, width=0.25)\n",
    "plt.bar(x+0.3, foreign, width=0.25)\n",
    "plt.xticks(x, years)\n",
    "\n",
    "plt.show()"
   ]
  },
  {
   "cell_type": "code",
   "execution_count": null,
   "metadata": {},
   "outputs": [],
   "source": [
    "# 그래프 그리기\n",
    "\n",
    "import numpy as np\n",
    "\n",
    "x = np.arange(3)\n",
    "years = ['2010', '2011', '2012']\n",
    "domestic = [6801, 7695, 8010]\n",
    "foreign = [777, 1046, 1681]\n",
    "\n",
    "plt.barh(x, domestic, width=0.25)\n",
    "plt.barh(x+0.3, foreign, width=0.25)\n",
    "plt.xticks(x, years)\n",
    "\n",
    "plt.show()"
   ]
  }
 ],
 "metadata": {
  "kernelspec": {
   "display_name": "Python 3",
   "language": "python",
   "name": "python3"
  },
  "language_info": {
   "codemirror_mode": {
    "name": "ipython",
    "version": 3
   },
   "file_extension": ".py",
   "mimetype": "text/x-python",
   "name": "python",
   "nbconvert_exporter": "python",
   "pygments_lexer": "ipython3",
   "version": "3.12.1"
  }
 },
 "nbformat": 4,
 "nbformat_minor": 2
}
