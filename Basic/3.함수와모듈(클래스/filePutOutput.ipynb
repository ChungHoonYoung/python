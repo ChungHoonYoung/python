{
 "cells": [
  {
   "cell_type": "code",
   "execution_count": null,
   "metadata": {},
   "outputs": [],
   "source": [
    "파일 입출력"
   ]
  },
  {
   "cell_type": "markdown",
   "metadata": {},
   "source": [
    "열기\n",
    "\n",
    "open()\n",
    "\n",
    "f = open(\"파일명\", 'w')\n",
    "f.write(\"데이터\")\n",
    "f.close\n",
    "\n",
    "# 바이너리 파일 열기\n",
    "f = open(\"파일명\", 'rb')\n",
    "data = f.read()\n",
    "print(data)\n",
    "f.close"
   ]
  },
  {
   "cell_type": "markdown",
   "metadata": {},
   "source": [
    "읽기\n",
    "\n",
    "read()\n",
    "read(n)\n",
    "\n",
    "readline()\n",
    "readlines()\n",
    "\n",
    "f = open(\"파일명\", 'r')\n",
    "print(f.read())\n",
    "f.close\n",
    "\n"
   ]
  },
  {
   "cell_type": "markdown",
   "metadata": {},
   "source": [
    "쓰기\n",
    "write()"
   ]
  },
  {
   "cell_type": "code",
   "execution_count": null,
   "metadata": {},
   "outputs": [],
   "source": [
    "# 파일의 내용 읽기\n",
    "\n",
    "# f = open('./1_9______/31_score_data.txt', 'r')\n",
    "# f = open('./1_9______/31_score_data1.txt', 'r')\n",
    "f = open('./1_9______/31_score_data2.txt', 'r')\n",
    "score = []\n",
    "\n",
    "score = f.read()\n",
    "# score = f.read().split()\n",
    "print(score)\n",
    "f.close()"
   ]
  },
  {
   "cell_type": "code",
   "execution_count": null,
   "metadata": {},
   "outputs": [],
   "source": [
    "# 파일의 내용 읽기\n",
    "\n",
    "f = open('./1_9______/31_score_data.txt', 'r')\n",
    "# f = open('./1_9______/31_score_data1.txt', 'r')\n",
    "# f = open('./1_9______/31_score_data2.txt', 'r')\n",
    "score = []\n",
    "\n",
    "for line in f :\n",
    "    score.append(line)\n",
    "\n",
    "print(score)\n",
    "f.close()"
   ]
  },
  {
   "cell_type": "code",
   "execution_count": null,
   "metadata": {},
   "outputs": [],
   "source": [
    "# 파일의 내용 읽기\n",
    "\n",
    "with open('./1_9______/31_score_data.txt', 'r') as f :\n",
    "    print(f.read())\n",
    "\n",
    "with open('./1_9______/happy_day.txt', 'r') as f :\n",
    "    print(f.read())"
   ]
  },
  {
   "cell_type": "code",
   "execution_count": null,
   "metadata": {},
   "outputs": [],
   "source": [
    "# 파일의 내용 읽기\n",
    "\n",
    "d_score = {}\n",
    "\n",
    "with open('./1_9______/31_score_data2.txt', 'r') as f :\n",
    "    for line in f :\n",
    "        (key, value) = line.split()\n",
    "        d_score[int(key)] = value\n",
    "\n",
    "print(d_score)\n",
    "\n",
    "for key, value in d_score.items() :\n",
    "    print(key, value)\n",
    "\n",
    "for num in d_score :\n",
    "    print(num, d_score[num])\n"
   ]
  },
  {
   "cell_type": "code",
   "execution_count": null,
   "metadata": {},
   "outputs": [],
   "source": [
    "# 파일의 내용 읽기\n",
    "\n",
    "f1 = open('./1_9______/31_score_data2.txt', 'r')\n",
    "\n",
    "print(f1.readlines())\n",
    "f1.close()\n",
    "\n",
    "f2 = open('./1_9______/31_score_data2.txt', 'r')\n",
    "\n",
    "for line in f2.readlines() :\n",
    "    line = line.strip()\n",
    "    print(line)\n",
    "f2.close()"
   ]
  },
  {
   "cell_type": "code",
   "execution_count": 29,
   "metadata": {},
   "outputs": [],
   "source": [
    "# 바이너리 파일의 읽기 쓰기\n",
    "\n",
    "f = open('./1_9______/python.png', 'rb')\n",
    "data = f.read()\n",
    "f.close()\n",
    "\n",
    "f1 = open('./1_9______/python2.png', 'wb')\n",
    "f1.write(data)\n",
    "f1.close()"
   ]
  },
  {
   "cell_type": "code",
   "execution_count": 3,
   "metadata": {},
   "outputs": [
    {
     "name": "stdout",
     "output_type": "stream",
     "text": [
      "{'005930': '삼성전자', '005380': '현대차', '035420': 'NAVER'}\n"
     ]
    }
   ],
   "source": [
    "#[연습문제] \"매수종목.txt\" 파일을 만들고 아래와 같이 입력한다.\n",
    "# 005930 삼성전자\n",
    "# 005380 현대차\n",
    "# 035420 NAVER\n",
    "\n",
    "f = open('./1_9______/매수종목.txt', 'w', encoding = 'utf-8')\n",
    "f.write('005930 삼성전자\\n005380 현대차\\n035420 NAVER')\n",
    "f.close()\n",
    "\n",
    "\n",
    "f = open('./1_9______/매수종목.txt', encoding = 'utf-8')\n",
    "lines = f.readlines()\n",
    "# ['005930 삼성전자\\n', '005380 현대차\\n', '035420 NAVER']\n",
    "\n",
    "data = {}\n",
    "for line in lines :\n",
    "    line = line.strip() #\\n제거\n",
    "    k, v = line.split() #딕셔너리로 변환\n",
    "    data[k] = v\n",
    "    \n",
    "print(data)\n",
    "f.close()"
   ]
  }
 ],
 "metadata": {
  "kernelspec": {
   "display_name": "Python 3",
   "language": "python",
   "name": "python3"
  },
  "language_info": {
   "codemirror_mode": {
    "name": "ipython",
    "version": 3
   },
   "file_extension": ".py",
   "mimetype": "text/x-python",
   "name": "python",
   "nbconvert_exporter": "python",
   "pygments_lexer": "ipython3",
   "version": "3.12.1"
  }
 },
 "nbformat": 4,
 "nbformat_minor": 2
}
